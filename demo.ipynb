{
 "cells": [
  {
   "cell_type": "markdown",
   "id": "6ebc0d3a",
   "metadata": {},
   "source": [
    "# Exploring Data with Python & GitHub\n",
    "Let us have an interactive session as we go through a sample of the project, please feel free to ask any questions about the project as we wind down the Python sprint.\n",
    "## Objectives\n",
    "*    Have a walk-through of the basic structure of the Python project.\n",
    "*    Identify some challenges faces during the project and how to overcome them."
   ]
  },
  {
   "cell_type": "markdown",
   "id": "8eedfea8",
   "metadata": {},
   "source": [
    "## IMPORTS\n",
    "Import all the required libraries for your analysis project"
   ]
  },
  {
   "cell_type": "code",
   "execution_count": null,
   "id": "847cebf4-3f9c-4dbe-a391-ac94f91bd699",
   "metadata": {},
   "outputs": [],
   "source": [
    "import pandas as pd\n",
    "import matplotlib.pyplot as plt\n",
    "import seaborn as sns\n",
    "from scipy import stats"
   ]
  },
  {
   "cell_type": "markdown",
   "id": "2cc0f957",
   "metadata": {},
   "source": [
    "## LOAD DATA \n",
    "\n",
    "We will look at multiple options to import the data using pandas:\n",
    "*    Local CSV\n",
    "*    Github Raw file"
   ]
  },
  {
   "cell_type": "markdown",
   "id": "b3b3c12e",
   "metadata": {},
   "source": [
    "### Local CSV\n",
    "Pass the location of the file relative to your notebook"
   ]
  },
  {
   "cell_type": "code",
   "execution_count": null,
   "id": "5439571c-fbdf-48be-8f2d-8b8359cde8a2",
   "metadata": {},
   "outputs": [],
   "source": [
    "df = pd.read_csv('data/data.csv')"
   ]
  },
  {
   "cell_type": "markdown",
   "id": "90dc5053",
   "metadata": {},
   "source": [
    "### Load directly from a GitHub raw CSV\n",
    "Navigate to github and find the url for the raw file on your repository.\n",
    "*    Allows you to capture the latest data without updating the entire repository.\n",
    "*    You require an internet connection."
   ]
  },
  {
   "cell_type": "code",
   "execution_count": null,
   "id": "b1a7e758",
   "metadata": {},
   "outputs": [],
   "source": [
    "# url = ''\n",
    "# df = pd.read_csv(url)"
   ]
  },
  {
   "cell_type": "markdown",
   "id": "27b38a78",
   "metadata": {},
   "source": [
    "## Preview the data"
   ]
  },
  {
   "cell_type": "code",
   "execution_count": null,
   "id": "7e909149",
   "metadata": {},
   "outputs": [],
   "source": [
    "df"
   ]
  },
  {
   "cell_type": "code",
   "execution_count": null,
   "id": "14d225ed",
   "metadata": {},
   "outputs": [],
   "source": [
    "df.head(20)"
   ]
  },
  {
   "cell_type": "markdown",
   "id": "fa3fc3db",
   "metadata": {},
   "source": [
    "## Basic information and cleaning"
   ]
  },
  {
   "cell_type": "markdown",
   "id": "79a01e0a",
   "metadata": {},
   "source": [
    "### Check all data types and non-null counts for each column"
   ]
  },
  {
   "cell_type": "code",
   "execution_count": null,
   "id": "d9d7d1b4",
   "metadata": {},
   "outputs": [],
   "source": [
    "df.info()"
   ]
  },
  {
   "cell_type": "code",
   "execution_count": null,
   "id": "8a241936",
   "metadata": {},
   "outputs": [],
   "source": [
    "len(df)"
   ]
  },
  {
   "cell_type": "code",
   "execution_count": null,
   "id": "91999762",
   "metadata": {},
   "outputs": [],
   "source": [
    "df.columns"
   ]
  },
  {
   "cell_type": "markdown",
   "id": "bc9c06c3",
   "metadata": {},
   "source": [
    "### Display summary statistics for numeric columns"
   ]
  },
  {
   "cell_type": "code",
   "execution_count": null,
   "id": "29282f18",
   "metadata": {},
   "outputs": [],
   "source": [
    "df.describe()"
   ]
  },
  {
   "cell_type": "markdown",
   "id": "d4af0fb2",
   "metadata": {},
   "source": [
    "### Convert *date* column to datetime if it isn't automatically picked up by pandas"
   ]
  },
  {
   "cell_type": "code",
   "execution_count": null,
   "id": "d76a8cab",
   "metadata": {},
   "outputs": [],
   "source": [
    "df['date'] = pd.to_datetime(df['date'])"
   ]
  },
  {
   "cell_type": "code",
   "execution_count": null,
   "id": "53e2bd94",
   "metadata": {},
   "outputs": [],
   "source": [
    "df.info()"
   ]
  },
  {
   "cell_type": "code",
   "execution_count": null,
   "id": "d3c175d2",
   "metadata": {},
   "outputs": [],
   "source": [
    "df.columns"
   ]
  },
  {
   "cell_type": "markdown",
   "id": "b18fc703",
   "metadata": {},
   "source": [
    "### Sort the data chronologically"
   ]
  },
  {
   "cell_type": "code",
   "execution_count": null,
   "id": "2d7c0cc5",
   "metadata": {},
   "outputs": [],
   "source": [
    "df = df.sort_values('date')"
   ]
  },
  {
   "cell_type": "markdown",
   "id": "a34ea979",
   "metadata": {},
   "source": [
    "### Set the date as the index for further analysis"
   ]
  },
  {
   "cell_type": "code",
   "execution_count": null,
   "id": "694e0c14",
   "metadata": {},
   "outputs": [],
   "source": [
    "df.set_index('date', inplace=True)"
   ]
  },
  {
   "cell_type": "markdown",
   "id": "2e2b6792",
   "metadata": {},
   "source": [
    "## Upload to Github"
   ]
  },
  {
   "cell_type": "markdown",
   "id": "e3049e55",
   "metadata": {},
   "source": [
    "Lets push our changes to GitHub for another member of the team to proceed with the visualisation and analysis"
   ]
  },
  {
   "cell_type": "markdown",
   "id": "619f6c4e",
   "metadata": {},
   "source": [
    "## Visualisation and Analysis"
   ]
  },
  {
   "cell_type": "markdown",
   "id": "e06947ae",
   "metadata": {},
   "source": [
    "### You can start your analysis with visuals of the columns you are interested in"
   ]
  },
  {
   "cell_type": "code",
   "execution_count": null,
   "id": "d4dc193c",
   "metadata": {},
   "outputs": [],
   "source": [
    "plt.figure(figsize=(10, 5))\n",
    "plt.plot(df['close'], label='Close Price')\n",
    "plt.title('Stock Close Price Over Time')\n",
    "plt.xlabel('Date')\n",
    "plt.ylabel('Price')\n",
    "plt.legend()\n",
    "plt.grid(True)\n",
    "plt.tight_layout()\n",
    "plt.show()"
   ]
  },
  {
   "cell_type": "markdown",
   "id": "b62f19fb",
   "metadata": {},
   "source": [
    "#### [commentary]"
   ]
  },
  {
   "cell_type": "markdown",
   "id": "6ccf0961",
   "metadata": {},
   "source": [
    "### Create a new column from existing data for analysis\n",
    "\n",
    "Let us calculate the percentage change between each recorded period"
   ]
  },
  {
   "cell_type": "code",
   "execution_count": null,
   "id": "86337272",
   "metadata": {},
   "outputs": [],
   "source": [
    "df['return'] = df['close'].pct_change()"
   ]
  },
  {
   "cell_type": "code",
   "execution_count": null,
   "id": "462a48a3",
   "metadata": {},
   "outputs": [],
   "source": [
    "df.head(5)"
   ]
  },
  {
   "cell_type": "code",
   "execution_count": null,
   "id": "a6539b62",
   "metadata": {},
   "outputs": [],
   "source": [
    "df = df.dropna()"
   ]
  },
  {
   "cell_type": "code",
   "execution_count": null,
   "id": "bb81e773",
   "metadata": {},
   "outputs": [],
   "source": [
    "plt.figure(figsize=(10, 5))\n",
    "plt.plot(df['return'], label='Return')\n",
    "plt.title('Stock Returns Over Time')\n",
    "plt.xlabel('Date')\n",
    "plt.ylabel('Percentage change')\n",
    "plt.legend()\n",
    "plt.grid(True)\n",
    "plt.tight_layout()\n",
    "plt.show()"
   ]
  },
  {
   "cell_type": "markdown",
   "id": "52e5ae26",
   "metadata": {},
   "source": [
    "#### [commentary]"
   ]
  },
  {
   "cell_type": "code",
   "execution_count": null,
   "id": "9be36579",
   "metadata": {},
   "outputs": [],
   "source": [
    "df['return'].plot(kind='hist', bins=100, figsize=(8, 4), title='Returns Distribution')\n",
    "plt.xlabel('Daily Return')\n",
    "plt.tight_layout()\n",
    "plt.show()"
   ]
  },
  {
   "cell_type": "markdown",
   "id": "f5218439",
   "metadata": {},
   "source": [
    "#### [commentary]"
   ]
  },
  {
   "cell_type": "markdown",
   "id": "b80180b5",
   "metadata": {},
   "source": [
    "## Hypothesis Testing [Optional]\n",
    "\n",
    "**Question: *Are the returns symmetrical for first and second halves of the year?***"
   ]
  },
  {
   "cell_type": "markdown",
   "id": "584ff576",
   "metadata": {},
   "source": [
    "*    $H_{0}$ :\n",
    "*    $H_{1}$ : "
   ]
  },
  {
   "cell_type": "markdown",
   "id": "900a75a0",
   "metadata": {},
   "source": [
    "### Split the data"
   ]
  },
  {
   "cell_type": "code",
   "execution_count": null,
   "id": "b2ab64bd",
   "metadata": {},
   "outputs": [],
   "source": [
    "total_rows = len(df)\n",
    "midpoint = total_rows // 2\n",
    "returns_first_half = df['return'].iloc[:midpoint]\n",
    "returns_second_half = df['return'].iloc[midpoint:]"
   ]
  },
  {
   "cell_type": "code",
   "execution_count": null,
   "id": "6209f39c",
   "metadata": {},
   "outputs": [],
   "source": [
    "returns_first_half"
   ]
  },
  {
   "cell_type": "markdown",
   "id": "7511ded8",
   "metadata": {},
   "source": [
    "### Perform the T-test"
   ]
  },
  {
   "cell_type": "code",
   "execution_count": null,
   "id": "4208615b",
   "metadata": {},
   "outputs": [],
   "source": [
    "stat, p = stats.ttest_ind(returns_first_half, returns_second_half, equal_var=False)"
   ]
  },
  {
   "cell_type": "code",
   "execution_count": null,
   "id": "2592ec71",
   "metadata": {},
   "outputs": [],
   "source": [
    "stat"
   ]
  },
  {
   "cell_type": "markdown",
   "id": "a8f66e57",
   "metadata": {},
   "source": [
    "### Results"
   ]
  },
  {
   "cell_type": "code",
   "execution_count": null,
   "id": "5c040c36",
   "metadata": {},
   "outputs": [],
   "source": [
    "print(f\"T-test statistic: {stat:.4f}, p-value: {p:.4f}\")\n",
    "if p < 0.05:\n",
    "    print(\"Statistically significant difference in returns between halves.\")\n",
    "else:\n",
    "    print(\"No statistically significant difference in returns between halves.\")\n"
   ]
  },
  {
   "cell_type": "markdown",
   "id": "3bf62a59",
   "metadata": {},
   "source": [
    "## Conclusion and recommendation"
   ]
  },
  {
   "cell_type": "markdown",
   "id": "e1d115e2",
   "metadata": {},
   "source": [
    "### Conclusion\n",
    "*    \n",
    "*    \n",
    "*    \n",
    "### Recommendations[Optional]\n",
    "*    "
   ]
  }
 ],
 "metadata": {
  "kernelspec": {
   "display_name": "base",
   "language": "python",
   "name": "python3"
  },
  "language_info": {
   "codemirror_mode": {
    "name": "ipython",
    "version": 3
   },
   "file_extension": ".py",
   "mimetype": "text/x-python",
   "name": "python",
   "nbconvert_exporter": "python",
   "pygments_lexer": "ipython3",
   "version": "3.12.7"
  }
 },
 "nbformat": 4,
 "nbformat_minor": 5
}
