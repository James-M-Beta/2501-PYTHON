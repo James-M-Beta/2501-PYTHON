{
 "cells": [
  {
   "cell_type": "markdown",
   "id": "6ebc0d3a",
   "metadata": {},
   "source": [
    "# Exploring Data with Python & GitHub\n",
    "Let us have an interactive session as we go through a sample of the project, please feel free to ask any questions about the project as we wind down the Python sprint.\n",
    "## Objectives\n",
    "*    Have a walk-through of the basic structure of the Python project.\n",
    "*    Identify some challenges faces during the project and how to overcome them."
   ]
  },
  {
   "cell_type": "markdown",
   "id": "8eedfea8",
   "metadata": {},
   "source": [
    "## IMPORTS\n",
    "Import all the required libraries for your analysis project"
   ]
  },
  {
   "cell_type": "code",
   "execution_count": 1,
   "id": "847cebf4-3f9c-4dbe-a391-ac94f91bd699",
   "metadata": {},
   "outputs": [],
   "source": [
    "import pandas as pd\n",
    "import matplotlib.pyplot as plt\n",
    "import seaborn as sns\n",
    "from scipy import stats"
   ]
  },
  {
   "cell_type": "markdown",
   "id": "2cc0f957",
   "metadata": {},
   "source": [
    "## LOAD DATA \n",
    "\n",
    "We will look at multiple options to import the data using pandas:\n",
    "*    Local CSV\n",
    "*    Github Raw file"
   ]
  },
  {
   "cell_type": "markdown",
   "id": "b3b3c12e",
   "metadata": {},
   "source": [
    "### Local CSV\n",
    "Pass the location of the file relative to your notebook"
   ]
  },
  {
   "cell_type": "code",
   "execution_count": 2,
   "id": "5439571c-fbdf-48be-8f2d-8b8359cde8a2",
   "metadata": {},
   "outputs": [],
   "source": [
    "df = pd.read_csv('data/data.csv')"
   ]
  },
  {
   "cell_type": "code",
   "execution_count": 3,
   "id": "76622002",
   "metadata": {},
   "outputs": [
    {
     "data": {
      "text/html": [
       "<div>\n",
       "<style scoped>\n",
       "    .dataframe tbody tr th:only-of-type {\n",
       "        vertical-align: middle;\n",
       "    }\n",
       "\n",
       "    .dataframe tbody tr th {\n",
       "        vertical-align: top;\n",
       "    }\n",
       "\n",
       "    .dataframe thead th {\n",
       "        text-align: right;\n",
       "    }\n",
       "</style>\n",
       "<table border=\"1\" class=\"dataframe\">\n",
       "  <thead>\n",
       "    <tr style=\"text-align: right;\">\n",
       "      <th></th>\n",
       "      <th>date</th>\n",
       "      <th>open</th>\n",
       "      <th>high</th>\n",
       "      <th>low</th>\n",
       "      <th>close</th>\n",
       "      <th>volume</th>\n",
       "    </tr>\n",
       "  </thead>\n",
       "  <tbody>\n",
       "    <tr>\n",
       "      <th>0</th>\n",
       "      <td>1/2/2014</td>\n",
       "      <td>25.07</td>\n",
       "      <td>25.8200</td>\n",
       "      <td>25.06</td>\n",
       "      <td>25.360</td>\n",
       "      <td>8998943</td>\n",
       "    </tr>\n",
       "    <tr>\n",
       "      <th>1</th>\n",
       "      <td>1/3/2014</td>\n",
       "      <td>25.75</td>\n",
       "      <td>26.7500</td>\n",
       "      <td>25.51</td>\n",
       "      <td>26.540</td>\n",
       "      <td>13836062</td>\n",
       "    </tr>\n",
       "    <tr>\n",
       "      <th>2</th>\n",
       "      <td>1/6/2014</td>\n",
       "      <td>26.62</td>\n",
       "      <td>27.2000</td>\n",
       "      <td>26.60</td>\n",
       "      <td>27.030</td>\n",
       "      <td>11272273</td>\n",
       "    </tr>\n",
       "    <tr>\n",
       "      <th>3</th>\n",
       "      <td>1/7/2014</td>\n",
       "      <td>27.20</td>\n",
       "      <td>27.3997</td>\n",
       "      <td>26.67</td>\n",
       "      <td>26.905</td>\n",
       "      <td>11288775</td>\n",
       "    </tr>\n",
       "    <tr>\n",
       "      <th>4</th>\n",
       "      <td>1/8/2014</td>\n",
       "      <td>26.37</td>\n",
       "      <td>27.6800</td>\n",
       "      <td>26.35</td>\n",
       "      <td>27.630</td>\n",
       "      <td>15736891</td>\n",
       "    </tr>\n",
       "    <tr>\n",
       "      <th>...</th>\n",
       "      <td>...</td>\n",
       "      <td>...</td>\n",
       "      <td>...</td>\n",
       "      <td>...</td>\n",
       "      <td>...</td>\n",
       "      <td>...</td>\n",
       "    </tr>\n",
       "    <tr>\n",
       "      <th>247</th>\n",
       "      <td>12/24/2014</td>\n",
       "      <td>50.66</td>\n",
       "      <td>51.6900</td>\n",
       "      <td>50.35</td>\n",
       "      <td>51.430</td>\n",
       "      <td>5961395</td>\n",
       "    </tr>\n",
       "    <tr>\n",
       "      <th>248</th>\n",
       "      <td>12/26/2014</td>\n",
       "      <td>51.46</td>\n",
       "      <td>52.2500</td>\n",
       "      <td>51.06</td>\n",
       "      <td>51.955</td>\n",
       "      <td>6841763</td>\n",
       "    </tr>\n",
       "    <tr>\n",
       "      <th>249</th>\n",
       "      <td>12/29/2014</td>\n",
       "      <td>51.65</td>\n",
       "      <td>53.2400</td>\n",
       "      <td>51.30</td>\n",
       "      <td>52.850</td>\n",
       "      <td>8791483</td>\n",
       "    </tr>\n",
       "    <tr>\n",
       "      <th>250</th>\n",
       "      <td>12/30/2014</td>\n",
       "      <td>53.00</td>\n",
       "      <td>53.7000</td>\n",
       "      <td>52.83</td>\n",
       "      <td>53.420</td>\n",
       "      <td>8063140</td>\n",
       "    </tr>\n",
       "    <tr>\n",
       "      <th>251</th>\n",
       "      <td>12/31/2014</td>\n",
       "      <td>53.90</td>\n",
       "      <td>54.6400</td>\n",
       "      <td>53.32</td>\n",
       "      <td>53.630</td>\n",
       "      <td>11063024</td>\n",
       "    </tr>\n",
       "  </tbody>\n",
       "</table>\n",
       "<p>252 rows × 6 columns</p>\n",
       "</div>"
      ],
      "text/plain": [
       "           date   open     high    low   close    volume\n",
       "0      1/2/2014  25.07  25.8200  25.06  25.360   8998943\n",
       "1      1/3/2014  25.75  26.7500  25.51  26.540  13836062\n",
       "2      1/6/2014  26.62  27.2000  26.60  27.030  11272273\n",
       "3      1/7/2014  27.20  27.3997  26.67  26.905  11288775\n",
       "4      1/8/2014  26.37  27.6800  26.35  27.630  15736891\n",
       "..          ...    ...      ...    ...     ...       ...\n",
       "247  12/24/2014  50.66  51.6900  50.35  51.430   5961395\n",
       "248  12/26/2014  51.46  52.2500  51.06  51.955   6841763\n",
       "249  12/29/2014  51.65  53.2400  51.30  52.850   8791483\n",
       "250  12/30/2014  53.00  53.7000  52.83  53.420   8063140\n",
       "251  12/31/2014  53.90  54.6400  53.32  53.630  11063024\n",
       "\n",
       "[252 rows x 6 columns]"
      ]
     },
     "execution_count": 3,
     "metadata": {},
     "output_type": "execute_result"
    }
   ],
   "source": [
    "df"
   ]
  },
  {
   "cell_type": "markdown",
   "id": "90dc5053",
   "metadata": {},
   "source": [
    "### Load directly from a GitHub raw CSV\n",
    "Navigate to github and find the url for the raw file on your repository.\n",
    "*    Allows you to capture the latest data without updating the entire repository.\n",
    "*    You require an internet connection."
   ]
  },
  {
   "cell_type": "code",
   "execution_count": 4,
   "id": "b1a7e758",
   "metadata": {},
   "outputs": [],
   "source": [
    "url = 'https://raw.githubusercontent.com/James-M-Beta/2501-PYTHON/refs/heads/main/data/data.csv'\n",
    "df = pd.read_csv(url)"
   ]
  },
  {
   "cell_type": "code",
   "execution_count": 5,
   "id": "c670c2eb",
   "metadata": {},
   "outputs": [
    {
     "data": {
      "text/html": [
       "<div>\n",
       "<style scoped>\n",
       "    .dataframe tbody tr th:only-of-type {\n",
       "        vertical-align: middle;\n",
       "    }\n",
       "\n",
       "    .dataframe tbody tr th {\n",
       "        vertical-align: top;\n",
       "    }\n",
       "\n",
       "    .dataframe thead th {\n",
       "        text-align: right;\n",
       "    }\n",
       "</style>\n",
       "<table border=\"1\" class=\"dataframe\">\n",
       "  <thead>\n",
       "    <tr style=\"text-align: right;\">\n",
       "      <th></th>\n",
       "      <th>date</th>\n",
       "      <th>open</th>\n",
       "      <th>high</th>\n",
       "      <th>low</th>\n",
       "      <th>close</th>\n",
       "      <th>volume</th>\n",
       "    </tr>\n",
       "  </thead>\n",
       "  <tbody>\n",
       "    <tr>\n",
       "      <th>0</th>\n",
       "      <td>1/2/2014</td>\n",
       "      <td>25.07</td>\n",
       "      <td>25.8200</td>\n",
       "      <td>25.06</td>\n",
       "      <td>25.360</td>\n",
       "      <td>8998943</td>\n",
       "    </tr>\n",
       "    <tr>\n",
       "      <th>1</th>\n",
       "      <td>1/3/2014</td>\n",
       "      <td>25.75</td>\n",
       "      <td>26.7500</td>\n",
       "      <td>25.51</td>\n",
       "      <td>26.540</td>\n",
       "      <td>13836062</td>\n",
       "    </tr>\n",
       "    <tr>\n",
       "      <th>2</th>\n",
       "      <td>1/6/2014</td>\n",
       "      <td>26.62</td>\n",
       "      <td>27.2000</td>\n",
       "      <td>26.60</td>\n",
       "      <td>27.030</td>\n",
       "      <td>11272273</td>\n",
       "    </tr>\n",
       "    <tr>\n",
       "      <th>3</th>\n",
       "      <td>1/7/2014</td>\n",
       "      <td>27.20</td>\n",
       "      <td>27.3997</td>\n",
       "      <td>26.67</td>\n",
       "      <td>26.905</td>\n",
       "      <td>11288775</td>\n",
       "    </tr>\n",
       "    <tr>\n",
       "      <th>4</th>\n",
       "      <td>1/8/2014</td>\n",
       "      <td>26.37</td>\n",
       "      <td>27.6800</td>\n",
       "      <td>26.35</td>\n",
       "      <td>27.630</td>\n",
       "      <td>15736891</td>\n",
       "    </tr>\n",
       "    <tr>\n",
       "      <th>...</th>\n",
       "      <td>...</td>\n",
       "      <td>...</td>\n",
       "      <td>...</td>\n",
       "      <td>...</td>\n",
       "      <td>...</td>\n",
       "      <td>...</td>\n",
       "    </tr>\n",
       "    <tr>\n",
       "      <th>247</th>\n",
       "      <td>12/24/2014</td>\n",
       "      <td>50.66</td>\n",
       "      <td>51.6900</td>\n",
       "      <td>50.35</td>\n",
       "      <td>51.430</td>\n",
       "      <td>5961395</td>\n",
       "    </tr>\n",
       "    <tr>\n",
       "      <th>248</th>\n",
       "      <td>12/26/2014</td>\n",
       "      <td>51.46</td>\n",
       "      <td>52.2500</td>\n",
       "      <td>51.06</td>\n",
       "      <td>51.955</td>\n",
       "      <td>6841763</td>\n",
       "    </tr>\n",
       "    <tr>\n",
       "      <th>249</th>\n",
       "      <td>12/29/2014</td>\n",
       "      <td>51.65</td>\n",
       "      <td>53.2400</td>\n",
       "      <td>51.30</td>\n",
       "      <td>52.850</td>\n",
       "      <td>8791483</td>\n",
       "    </tr>\n",
       "    <tr>\n",
       "      <th>250</th>\n",
       "      <td>12/30/2014</td>\n",
       "      <td>53.00</td>\n",
       "      <td>53.7000</td>\n",
       "      <td>52.83</td>\n",
       "      <td>53.420</td>\n",
       "      <td>8063140</td>\n",
       "    </tr>\n",
       "    <tr>\n",
       "      <th>251</th>\n",
       "      <td>12/31/2014</td>\n",
       "      <td>53.90</td>\n",
       "      <td>54.6400</td>\n",
       "      <td>53.32</td>\n",
       "      <td>53.630</td>\n",
       "      <td>11063024</td>\n",
       "    </tr>\n",
       "  </tbody>\n",
       "</table>\n",
       "<p>252 rows × 6 columns</p>\n",
       "</div>"
      ],
      "text/plain": [
       "           date   open     high    low   close    volume\n",
       "0      1/2/2014  25.07  25.8200  25.06  25.360   8998943\n",
       "1      1/3/2014  25.75  26.7500  25.51  26.540  13836062\n",
       "2      1/6/2014  26.62  27.2000  26.60  27.030  11272273\n",
       "3      1/7/2014  27.20  27.3997  26.67  26.905  11288775\n",
       "4      1/8/2014  26.37  27.6800  26.35  27.630  15736891\n",
       "..          ...    ...      ...    ...     ...       ...\n",
       "247  12/24/2014  50.66  51.6900  50.35  51.430   5961395\n",
       "248  12/26/2014  51.46  52.2500  51.06  51.955   6841763\n",
       "249  12/29/2014  51.65  53.2400  51.30  52.850   8791483\n",
       "250  12/30/2014  53.00  53.7000  52.83  53.420   8063140\n",
       "251  12/31/2014  53.90  54.6400  53.32  53.630  11063024\n",
       "\n",
       "[252 rows x 6 columns]"
      ]
     },
     "execution_count": 5,
     "metadata": {},
     "output_type": "execute_result"
    }
   ],
   "source": [
    "df"
   ]
  },
  {
   "cell_type": "markdown",
   "id": "27b38a78",
   "metadata": {},
   "source": [
    "## Preview the data"
   ]
  },
  {
   "cell_type": "code",
   "execution_count": 6,
   "id": "7e909149",
   "metadata": {},
   "outputs": [
    {
     "data": {
      "text/html": [
       "<div>\n",
       "<style scoped>\n",
       "    .dataframe tbody tr th:only-of-type {\n",
       "        vertical-align: middle;\n",
       "    }\n",
       "\n",
       "    .dataframe tbody tr th {\n",
       "        vertical-align: top;\n",
       "    }\n",
       "\n",
       "    .dataframe thead th {\n",
       "        text-align: right;\n",
       "    }\n",
       "</style>\n",
       "<table border=\"1\" class=\"dataframe\">\n",
       "  <thead>\n",
       "    <tr style=\"text-align: right;\">\n",
       "      <th></th>\n",
       "      <th>date</th>\n",
       "      <th>open</th>\n",
       "      <th>high</th>\n",
       "      <th>low</th>\n",
       "      <th>close</th>\n",
       "      <th>volume</th>\n",
       "    </tr>\n",
       "  </thead>\n",
       "  <tbody>\n",
       "    <tr>\n",
       "      <th>0</th>\n",
       "      <td>1/2/2014</td>\n",
       "      <td>25.07</td>\n",
       "      <td>25.8200</td>\n",
       "      <td>25.06</td>\n",
       "      <td>25.360</td>\n",
       "      <td>8998943</td>\n",
       "    </tr>\n",
       "    <tr>\n",
       "      <th>1</th>\n",
       "      <td>1/3/2014</td>\n",
       "      <td>25.75</td>\n",
       "      <td>26.7500</td>\n",
       "      <td>25.51</td>\n",
       "      <td>26.540</td>\n",
       "      <td>13836062</td>\n",
       "    </tr>\n",
       "    <tr>\n",
       "      <th>2</th>\n",
       "      <td>1/6/2014</td>\n",
       "      <td>26.62</td>\n",
       "      <td>27.2000</td>\n",
       "      <td>26.60</td>\n",
       "      <td>27.030</td>\n",
       "      <td>11272273</td>\n",
       "    </tr>\n",
       "    <tr>\n",
       "      <th>3</th>\n",
       "      <td>1/7/2014</td>\n",
       "      <td>27.20</td>\n",
       "      <td>27.3997</td>\n",
       "      <td>26.67</td>\n",
       "      <td>26.905</td>\n",
       "      <td>11288775</td>\n",
       "    </tr>\n",
       "    <tr>\n",
       "      <th>4</th>\n",
       "      <td>1/8/2014</td>\n",
       "      <td>26.37</td>\n",
       "      <td>27.6800</td>\n",
       "      <td>26.35</td>\n",
       "      <td>27.630</td>\n",
       "      <td>15736891</td>\n",
       "    </tr>\n",
       "    <tr>\n",
       "      <th>...</th>\n",
       "      <td>...</td>\n",
       "      <td>...</td>\n",
       "      <td>...</td>\n",
       "      <td>...</td>\n",
       "      <td>...</td>\n",
       "      <td>...</td>\n",
       "    </tr>\n",
       "    <tr>\n",
       "      <th>247</th>\n",
       "      <td>12/24/2014</td>\n",
       "      <td>50.66</td>\n",
       "      <td>51.6900</td>\n",
       "      <td>50.35</td>\n",
       "      <td>51.430</td>\n",
       "      <td>5961395</td>\n",
       "    </tr>\n",
       "    <tr>\n",
       "      <th>248</th>\n",
       "      <td>12/26/2014</td>\n",
       "      <td>51.46</td>\n",
       "      <td>52.2500</td>\n",
       "      <td>51.06</td>\n",
       "      <td>51.955</td>\n",
       "      <td>6841763</td>\n",
       "    </tr>\n",
       "    <tr>\n",
       "      <th>249</th>\n",
       "      <td>12/29/2014</td>\n",
       "      <td>51.65</td>\n",
       "      <td>53.2400</td>\n",
       "      <td>51.30</td>\n",
       "      <td>52.850</td>\n",
       "      <td>8791483</td>\n",
       "    </tr>\n",
       "    <tr>\n",
       "      <th>250</th>\n",
       "      <td>12/30/2014</td>\n",
       "      <td>53.00</td>\n",
       "      <td>53.7000</td>\n",
       "      <td>52.83</td>\n",
       "      <td>53.420</td>\n",
       "      <td>8063140</td>\n",
       "    </tr>\n",
       "    <tr>\n",
       "      <th>251</th>\n",
       "      <td>12/31/2014</td>\n",
       "      <td>53.90</td>\n",
       "      <td>54.6400</td>\n",
       "      <td>53.32</td>\n",
       "      <td>53.630</td>\n",
       "      <td>11063024</td>\n",
       "    </tr>\n",
       "  </tbody>\n",
       "</table>\n",
       "<p>252 rows × 6 columns</p>\n",
       "</div>"
      ],
      "text/plain": [
       "           date   open     high    low   close    volume\n",
       "0      1/2/2014  25.07  25.8200  25.06  25.360   8998943\n",
       "1      1/3/2014  25.75  26.7500  25.51  26.540  13836062\n",
       "2      1/6/2014  26.62  27.2000  26.60  27.030  11272273\n",
       "3      1/7/2014  27.20  27.3997  26.67  26.905  11288775\n",
       "4      1/8/2014  26.37  27.6800  26.35  27.630  15736891\n",
       "..          ...    ...      ...    ...     ...       ...\n",
       "247  12/24/2014  50.66  51.6900  50.35  51.430   5961395\n",
       "248  12/26/2014  51.46  52.2500  51.06  51.955   6841763\n",
       "249  12/29/2014  51.65  53.2400  51.30  52.850   8791483\n",
       "250  12/30/2014  53.00  53.7000  52.83  53.420   8063140\n",
       "251  12/31/2014  53.90  54.6400  53.32  53.630  11063024\n",
       "\n",
       "[252 rows x 6 columns]"
      ]
     },
     "execution_count": 6,
     "metadata": {},
     "output_type": "execute_result"
    }
   ],
   "source": [
    "df"
   ]
  },
  {
   "cell_type": "code",
   "execution_count": 7,
   "id": "14d225ed",
   "metadata": {},
   "outputs": [
    {
     "data": {
      "text/html": [
       "<div>\n",
       "<style scoped>\n",
       "    .dataframe tbody tr th:only-of-type {\n",
       "        vertical-align: middle;\n",
       "    }\n",
       "\n",
       "    .dataframe tbody tr th {\n",
       "        vertical-align: top;\n",
       "    }\n",
       "\n",
       "    .dataframe thead th {\n",
       "        text-align: right;\n",
       "    }\n",
       "</style>\n",
       "<table border=\"1\" class=\"dataframe\">\n",
       "  <thead>\n",
       "    <tr style=\"text-align: right;\">\n",
       "      <th></th>\n",
       "      <th>date</th>\n",
       "      <th>open</th>\n",
       "      <th>high</th>\n",
       "      <th>low</th>\n",
       "      <th>close</th>\n",
       "      <th>volume</th>\n",
       "    </tr>\n",
       "  </thead>\n",
       "  <tbody>\n",
       "    <tr>\n",
       "      <th>232</th>\n",
       "      <td>12/3/2014</td>\n",
       "      <td>47.740</td>\n",
       "      <td>48.470</td>\n",
       "      <td>46.925</td>\n",
       "      <td>48.240</td>\n",
       "      <td>8917697</td>\n",
       "    </tr>\n",
       "    <tr>\n",
       "      <th>233</th>\n",
       "      <td>12/4/2014</td>\n",
       "      <td>49.600</td>\n",
       "      <td>50.270</td>\n",
       "      <td>49.320</td>\n",
       "      <td>49.650</td>\n",
       "      <td>15233774</td>\n",
       "    </tr>\n",
       "    <tr>\n",
       "      <th>234</th>\n",
       "      <td>12/5/2014</td>\n",
       "      <td>50.090</td>\n",
       "      <td>51.750</td>\n",
       "      <td>50.010</td>\n",
       "      <td>51.010</td>\n",
       "      <td>15588179</td>\n",
       "    </tr>\n",
       "    <tr>\n",
       "      <th>235</th>\n",
       "      <td>12/8/2014</td>\n",
       "      <td>50.440</td>\n",
       "      <td>51.320</td>\n",
       "      <td>50.150</td>\n",
       "      <td>50.820</td>\n",
       "      <td>16167321</td>\n",
       "    </tr>\n",
       "    <tr>\n",
       "      <th>236</th>\n",
       "      <td>12/9/2014</td>\n",
       "      <td>49.100</td>\n",
       "      <td>49.200</td>\n",
       "      <td>47.390</td>\n",
       "      <td>48.310</td>\n",
       "      <td>20575397</td>\n",
       "    </tr>\n",
       "    <tr>\n",
       "      <th>237</th>\n",
       "      <td>12/10/2014</td>\n",
       "      <td>49.800</td>\n",
       "      <td>50.399</td>\n",
       "      <td>48.250</td>\n",
       "      <td>48.940</td>\n",
       "      <td>18499976</td>\n",
       "    </tr>\n",
       "    <tr>\n",
       "      <th>238</th>\n",
       "      <td>12/11/2014</td>\n",
       "      <td>49.800</td>\n",
       "      <td>51.500</td>\n",
       "      <td>49.650</td>\n",
       "      <td>50.530</td>\n",
       "      <td>15100887</td>\n",
       "    </tr>\n",
       "    <tr>\n",
       "      <th>239</th>\n",
       "      <td>12/12/2014</td>\n",
       "      <td>51.675</td>\n",
       "      <td>51.700</td>\n",
       "      <td>49.900</td>\n",
       "      <td>49.970</td>\n",
       "      <td>15364034</td>\n",
       "    </tr>\n",
       "    <tr>\n",
       "      <th>240</th>\n",
       "      <td>12/15/2014</td>\n",
       "      <td>50.210</td>\n",
       "      <td>51.320</td>\n",
       "      <td>49.320</td>\n",
       "      <td>50.840</td>\n",
       "      <td>15368535</td>\n",
       "    </tr>\n",
       "    <tr>\n",
       "      <th>241</th>\n",
       "      <td>12/16/2014</td>\n",
       "      <td>51.010</td>\n",
       "      <td>51.150</td>\n",
       "      <td>47.680</td>\n",
       "      <td>47.960</td>\n",
       "      <td>22053666</td>\n",
       "    </tr>\n",
       "    <tr>\n",
       "      <th>242</th>\n",
       "      <td>12/17/2014</td>\n",
       "      <td>48.260</td>\n",
       "      <td>49.490</td>\n",
       "      <td>46.050</td>\n",
       "      <td>48.800</td>\n",
       "      <td>24779800</td>\n",
       "    </tr>\n",
       "    <tr>\n",
       "      <th>243</th>\n",
       "      <td>12/18/2014</td>\n",
       "      <td>48.560</td>\n",
       "      <td>50.930</td>\n",
       "      <td>47.500</td>\n",
       "      <td>50.140</td>\n",
       "      <td>16945321</td>\n",
       "    </tr>\n",
       "    <tr>\n",
       "      <th>244</th>\n",
       "      <td>12/19/2014</td>\n",
       "      <td>49.670</td>\n",
       "      <td>50.940</td>\n",
       "      <td>49.100</td>\n",
       "      <td>50.710</td>\n",
       "      <td>26787715</td>\n",
       "    </tr>\n",
       "    <tr>\n",
       "      <th>245</th>\n",
       "      <td>12/22/2014</td>\n",
       "      <td>51.100</td>\n",
       "      <td>51.880</td>\n",
       "      <td>50.720</td>\n",
       "      <td>50.840</td>\n",
       "      <td>8872374</td>\n",
       "    </tr>\n",
       "    <tr>\n",
       "      <th>246</th>\n",
       "      <td>12/23/2014</td>\n",
       "      <td>50.950</td>\n",
       "      <td>51.140</td>\n",
       "      <td>49.840</td>\n",
       "      <td>50.210</td>\n",
       "      <td>7169796</td>\n",
       "    </tr>\n",
       "    <tr>\n",
       "      <th>247</th>\n",
       "      <td>12/24/2014</td>\n",
       "      <td>50.660</td>\n",
       "      <td>51.690</td>\n",
       "      <td>50.350</td>\n",
       "      <td>51.430</td>\n",
       "      <td>5961395</td>\n",
       "    </tr>\n",
       "    <tr>\n",
       "      <th>248</th>\n",
       "      <td>12/26/2014</td>\n",
       "      <td>51.460</td>\n",
       "      <td>52.250</td>\n",
       "      <td>51.060</td>\n",
       "      <td>51.955</td>\n",
       "      <td>6841763</td>\n",
       "    </tr>\n",
       "    <tr>\n",
       "      <th>249</th>\n",
       "      <td>12/29/2014</td>\n",
       "      <td>51.650</td>\n",
       "      <td>53.240</td>\n",
       "      <td>51.300</td>\n",
       "      <td>52.850</td>\n",
       "      <td>8791483</td>\n",
       "    </tr>\n",
       "    <tr>\n",
       "      <th>250</th>\n",
       "      <td>12/30/2014</td>\n",
       "      <td>53.000</td>\n",
       "      <td>53.700</td>\n",
       "      <td>52.830</td>\n",
       "      <td>53.420</td>\n",
       "      <td>8063140</td>\n",
       "    </tr>\n",
       "    <tr>\n",
       "      <th>251</th>\n",
       "      <td>12/31/2014</td>\n",
       "      <td>53.900</td>\n",
       "      <td>54.640</td>\n",
       "      <td>53.320</td>\n",
       "      <td>53.630</td>\n",
       "      <td>11063024</td>\n",
       "    </tr>\n",
       "  </tbody>\n",
       "</table>\n",
       "</div>"
      ],
      "text/plain": [
       "           date    open    high     low   close    volume\n",
       "232   12/3/2014  47.740  48.470  46.925  48.240   8917697\n",
       "233   12/4/2014  49.600  50.270  49.320  49.650  15233774\n",
       "234   12/5/2014  50.090  51.750  50.010  51.010  15588179\n",
       "235   12/8/2014  50.440  51.320  50.150  50.820  16167321\n",
       "236   12/9/2014  49.100  49.200  47.390  48.310  20575397\n",
       "237  12/10/2014  49.800  50.399  48.250  48.940  18499976\n",
       "238  12/11/2014  49.800  51.500  49.650  50.530  15100887\n",
       "239  12/12/2014  51.675  51.700  49.900  49.970  15364034\n",
       "240  12/15/2014  50.210  51.320  49.320  50.840  15368535\n",
       "241  12/16/2014  51.010  51.150  47.680  47.960  22053666\n",
       "242  12/17/2014  48.260  49.490  46.050  48.800  24779800\n",
       "243  12/18/2014  48.560  50.930  47.500  50.140  16945321\n",
       "244  12/19/2014  49.670  50.940  49.100  50.710  26787715\n",
       "245  12/22/2014  51.100  51.880  50.720  50.840   8872374\n",
       "246  12/23/2014  50.950  51.140  49.840  50.210   7169796\n",
       "247  12/24/2014  50.660  51.690  50.350  51.430   5961395\n",
       "248  12/26/2014  51.460  52.250  51.060  51.955   6841763\n",
       "249  12/29/2014  51.650  53.240  51.300  52.850   8791483\n",
       "250  12/30/2014  53.000  53.700  52.830  53.420   8063140\n",
       "251  12/31/2014  53.900  54.640  53.320  53.630  11063024"
      ]
     },
     "execution_count": 7,
     "metadata": {},
     "output_type": "execute_result"
    }
   ],
   "source": [
    "df.tail(20)"
   ]
  },
  {
   "cell_type": "markdown",
   "id": "fa3fc3db",
   "metadata": {},
   "source": [
    "## Basic information and cleaning"
   ]
  },
  {
   "cell_type": "markdown",
   "id": "79a01e0a",
   "metadata": {},
   "source": [
    "### Check all data types and non-null counts for each column"
   ]
  },
  {
   "cell_type": "code",
   "execution_count": 8,
   "id": "d9d7d1b4",
   "metadata": {},
   "outputs": [
    {
     "name": "stdout",
     "output_type": "stream",
     "text": [
      "<class 'pandas.core.frame.DataFrame'>\n",
      "RangeIndex: 252 entries, 0 to 251\n",
      "Data columns (total 6 columns):\n",
      " #   Column  Non-Null Count  Dtype  \n",
      "---  ------  --------------  -----  \n",
      " 0   date    252 non-null    object \n",
      " 1   open    252 non-null    float64\n",
      " 2   high    252 non-null    float64\n",
      " 3   low     252 non-null    float64\n",
      " 4   close   252 non-null    float64\n",
      " 5   volume  252 non-null    int64  \n",
      "dtypes: float64(4), int64(1), object(1)\n",
      "memory usage: 11.9+ KB\n"
     ]
    }
   ],
   "source": [
    "df.info()"
   ]
  },
  {
   "cell_type": "code",
   "execution_count": 9,
   "id": "8a241936",
   "metadata": {},
   "outputs": [
    {
     "data": {
      "text/plain": [
       "252"
      ]
     },
     "execution_count": 9,
     "metadata": {},
     "output_type": "execute_result"
    }
   ],
   "source": [
    "len(df)"
   ]
  },
  {
   "cell_type": "code",
   "execution_count": 10,
   "id": "91999762",
   "metadata": {},
   "outputs": [
    {
     "data": {
      "text/plain": [
       "Index(['date', 'open', 'high', 'low', 'close', 'volume'], dtype='object')"
      ]
     },
     "execution_count": 10,
     "metadata": {},
     "output_type": "execute_result"
    }
   ],
   "source": [
    "df.columns"
   ]
  },
  {
   "cell_type": "markdown",
   "id": "bc9c06c3",
   "metadata": {},
   "source": [
    "### Display summary statistics for numeric columns"
   ]
  },
  {
   "cell_type": "code",
   "execution_count": 11,
   "id": "29282f18",
   "metadata": {},
   "outputs": [
    {
     "data": {
      "text/html": [
       "<div>\n",
       "<style scoped>\n",
       "    .dataframe tbody tr th:only-of-type {\n",
       "        vertical-align: middle;\n",
       "    }\n",
       "\n",
       "    .dataframe tbody tr th {\n",
       "        vertical-align: top;\n",
       "    }\n",
       "\n",
       "    .dataframe thead th {\n",
       "        text-align: right;\n",
       "    }\n",
       "</style>\n",
       "<table border=\"1\" class=\"dataframe\">\n",
       "  <thead>\n",
       "    <tr style=\"text-align: right;\">\n",
       "      <th></th>\n",
       "      <th>open</th>\n",
       "      <th>high</th>\n",
       "      <th>low</th>\n",
       "      <th>close</th>\n",
       "      <th>volume</th>\n",
       "    </tr>\n",
       "  </thead>\n",
       "  <tbody>\n",
       "    <tr>\n",
       "      <th>count</th>\n",
       "      <td>252.000000</td>\n",
       "      <td>252.000000</td>\n",
       "      <td>252.000000</td>\n",
       "      <td>252.000000</td>\n",
       "      <td>2.520000e+02</td>\n",
       "    </tr>\n",
       "    <tr>\n",
       "      <th>mean</th>\n",
       "      <td>38.861944</td>\n",
       "      <td>39.549713</td>\n",
       "      <td>38.229872</td>\n",
       "      <td>38.923550</td>\n",
       "      <td>1.239803e+07</td>\n",
       "    </tr>\n",
       "    <tr>\n",
       "      <th>std</th>\n",
       "      <td>5.367492</td>\n",
       "      <td>5.389815</td>\n",
       "      <td>5.315830</td>\n",
       "      <td>5.336756</td>\n",
       "      <td>6.268067e+06</td>\n",
       "    </tr>\n",
       "    <tr>\n",
       "      <th>min</th>\n",
       "      <td>25.070000</td>\n",
       "      <td>25.820000</td>\n",
       "      <td>25.060000</td>\n",
       "      <td>25.360000</td>\n",
       "      <td>3.863064e+06</td>\n",
       "    </tr>\n",
       "    <tr>\n",
       "      <th>25%</th>\n",
       "      <td>35.855000</td>\n",
       "      <td>36.437500</td>\n",
       "      <td>35.020000</td>\n",
       "      <td>35.745000</td>\n",
       "      <td>8.480508e+06</td>\n",
       "    </tr>\n",
       "    <tr>\n",
       "      <th>50%</th>\n",
       "      <td>38.260000</td>\n",
       "      <td>38.860000</td>\n",
       "      <td>37.830000</td>\n",
       "      <td>38.235000</td>\n",
       "      <td>1.093462e+07</td>\n",
       "    </tr>\n",
       "    <tr>\n",
       "      <th>75%</th>\n",
       "      <td>42.500000</td>\n",
       "      <td>42.957500</td>\n",
       "      <td>41.656250</td>\n",
       "      <td>42.312500</td>\n",
       "      <td>1.411417e+07</td>\n",
       "    </tr>\n",
       "    <tr>\n",
       "      <th>max</th>\n",
       "      <td>53.900000</td>\n",
       "      <td>54.640000</td>\n",
       "      <td>53.320000</td>\n",
       "      <td>53.630000</td>\n",
       "      <td>4.147158e+07</td>\n",
       "    </tr>\n",
       "  </tbody>\n",
       "</table>\n",
       "</div>"
      ],
      "text/plain": [
       "             open        high         low       close        volume\n",
       "count  252.000000  252.000000  252.000000  252.000000  2.520000e+02\n",
       "mean    38.861944   39.549713   38.229872   38.923550  1.239803e+07\n",
       "std      5.367492    5.389815    5.315830    5.336756  6.268067e+06\n",
       "min     25.070000   25.820000   25.060000   25.360000  3.863064e+06\n",
       "25%     35.855000   36.437500   35.020000   35.745000  8.480508e+06\n",
       "50%     38.260000   38.860000   37.830000   38.235000  1.093462e+07\n",
       "75%     42.500000   42.957500   41.656250   42.312500  1.411417e+07\n",
       "max     53.900000   54.640000   53.320000   53.630000  4.147158e+07"
      ]
     },
     "execution_count": 11,
     "metadata": {},
     "output_type": "execute_result"
    }
   ],
   "source": [
    "df.describe()"
   ]
  },
  {
   "cell_type": "markdown",
   "id": "d4af0fb2",
   "metadata": {},
   "source": [
    "### Convert *date* column to datetime if it isn't automatically picked up by pandas"
   ]
  },
  {
   "cell_type": "code",
   "execution_count": 12,
   "id": "d76a8cab",
   "metadata": {},
   "outputs": [],
   "source": [
    "df['date'] = pd.to_datetime(df['date'])"
   ]
  },
  {
   "cell_type": "code",
   "execution_count": 13,
   "id": "53e2bd94",
   "metadata": {},
   "outputs": [
    {
     "name": "stdout",
     "output_type": "stream",
     "text": [
      "<class 'pandas.core.frame.DataFrame'>\n",
      "RangeIndex: 252 entries, 0 to 251\n",
      "Data columns (total 6 columns):\n",
      " #   Column  Non-Null Count  Dtype         \n",
      "---  ------  --------------  -----         \n",
      " 0   date    252 non-null    datetime64[ns]\n",
      " 1   open    252 non-null    float64       \n",
      " 2   high    252 non-null    float64       \n",
      " 3   low     252 non-null    float64       \n",
      " 4   close   252 non-null    float64       \n",
      " 5   volume  252 non-null    int64         \n",
      "dtypes: datetime64[ns](1), float64(4), int64(1)\n",
      "memory usage: 11.9 KB\n"
     ]
    }
   ],
   "source": [
    "df.info()"
   ]
  },
  {
   "cell_type": "code",
   "execution_count": 14,
   "id": "d3c175d2",
   "metadata": {},
   "outputs": [
    {
     "data": {
      "text/plain": [
       "Index(['date', 'open', 'high', 'low', 'close', 'volume'], dtype='object')"
      ]
     },
     "execution_count": 14,
     "metadata": {},
     "output_type": "execute_result"
    }
   ],
   "source": [
    "df.columns"
   ]
  },
  {
   "cell_type": "markdown",
   "id": "b18fc703",
   "metadata": {},
   "source": [
    "### Sort the data chronologically"
   ]
  },
  {
   "cell_type": "code",
   "execution_count": 15,
   "id": "2d7c0cc5",
   "metadata": {},
   "outputs": [],
   "source": [
    "df = df.sort_values('date')"
   ]
  },
  {
   "cell_type": "code",
   "execution_count": 16,
   "id": "e8b12410",
   "metadata": {},
   "outputs": [
    {
     "data": {
      "text/html": [
       "<div>\n",
       "<style scoped>\n",
       "    .dataframe tbody tr th:only-of-type {\n",
       "        vertical-align: middle;\n",
       "    }\n",
       "\n",
       "    .dataframe tbody tr th {\n",
       "        vertical-align: top;\n",
       "    }\n",
       "\n",
       "    .dataframe thead th {\n",
       "        text-align: right;\n",
       "    }\n",
       "</style>\n",
       "<table border=\"1\" class=\"dataframe\">\n",
       "  <thead>\n",
       "    <tr style=\"text-align: right;\">\n",
       "      <th></th>\n",
       "      <th>date</th>\n",
       "      <th>open</th>\n",
       "      <th>high</th>\n",
       "      <th>low</th>\n",
       "      <th>close</th>\n",
       "      <th>volume</th>\n",
       "    </tr>\n",
       "  </thead>\n",
       "  <tbody>\n",
       "    <tr>\n",
       "      <th>0</th>\n",
       "      <td>2014-01-02</td>\n",
       "      <td>25.07</td>\n",
       "      <td>25.8200</td>\n",
       "      <td>25.06</td>\n",
       "      <td>25.360</td>\n",
       "      <td>8998943</td>\n",
       "    </tr>\n",
       "    <tr>\n",
       "      <th>1</th>\n",
       "      <td>2014-01-03</td>\n",
       "      <td>25.75</td>\n",
       "      <td>26.7500</td>\n",
       "      <td>25.51</td>\n",
       "      <td>26.540</td>\n",
       "      <td>13836062</td>\n",
       "    </tr>\n",
       "    <tr>\n",
       "      <th>2</th>\n",
       "      <td>2014-01-06</td>\n",
       "      <td>26.62</td>\n",
       "      <td>27.2000</td>\n",
       "      <td>26.60</td>\n",
       "      <td>27.030</td>\n",
       "      <td>11272273</td>\n",
       "    </tr>\n",
       "    <tr>\n",
       "      <th>3</th>\n",
       "      <td>2014-01-07</td>\n",
       "      <td>27.20</td>\n",
       "      <td>27.3997</td>\n",
       "      <td>26.67</td>\n",
       "      <td>26.905</td>\n",
       "      <td>11288775</td>\n",
       "    </tr>\n",
       "    <tr>\n",
       "      <th>4</th>\n",
       "      <td>2014-01-08</td>\n",
       "      <td>26.37</td>\n",
       "      <td>27.6800</td>\n",
       "      <td>26.35</td>\n",
       "      <td>27.630</td>\n",
       "      <td>15736891</td>\n",
       "    </tr>\n",
       "    <tr>\n",
       "      <th>...</th>\n",
       "      <td>...</td>\n",
       "      <td>...</td>\n",
       "      <td>...</td>\n",
       "      <td>...</td>\n",
       "      <td>...</td>\n",
       "      <td>...</td>\n",
       "    </tr>\n",
       "    <tr>\n",
       "      <th>247</th>\n",
       "      <td>2014-12-24</td>\n",
       "      <td>50.66</td>\n",
       "      <td>51.6900</td>\n",
       "      <td>50.35</td>\n",
       "      <td>51.430</td>\n",
       "      <td>5961395</td>\n",
       "    </tr>\n",
       "    <tr>\n",
       "      <th>248</th>\n",
       "      <td>2014-12-26</td>\n",
       "      <td>51.46</td>\n",
       "      <td>52.2500</td>\n",
       "      <td>51.06</td>\n",
       "      <td>51.955</td>\n",
       "      <td>6841763</td>\n",
       "    </tr>\n",
       "    <tr>\n",
       "      <th>249</th>\n",
       "      <td>2014-12-29</td>\n",
       "      <td>51.65</td>\n",
       "      <td>53.2400</td>\n",
       "      <td>51.30</td>\n",
       "      <td>52.850</td>\n",
       "      <td>8791483</td>\n",
       "    </tr>\n",
       "    <tr>\n",
       "      <th>250</th>\n",
       "      <td>2014-12-30</td>\n",
       "      <td>53.00</td>\n",
       "      <td>53.7000</td>\n",
       "      <td>52.83</td>\n",
       "      <td>53.420</td>\n",
       "      <td>8063140</td>\n",
       "    </tr>\n",
       "    <tr>\n",
       "      <th>251</th>\n",
       "      <td>2014-12-31</td>\n",
       "      <td>53.90</td>\n",
       "      <td>54.6400</td>\n",
       "      <td>53.32</td>\n",
       "      <td>53.630</td>\n",
       "      <td>11063024</td>\n",
       "    </tr>\n",
       "  </tbody>\n",
       "</table>\n",
       "<p>252 rows × 6 columns</p>\n",
       "</div>"
      ],
      "text/plain": [
       "          date   open     high    low   close    volume\n",
       "0   2014-01-02  25.07  25.8200  25.06  25.360   8998943\n",
       "1   2014-01-03  25.75  26.7500  25.51  26.540  13836062\n",
       "2   2014-01-06  26.62  27.2000  26.60  27.030  11272273\n",
       "3   2014-01-07  27.20  27.3997  26.67  26.905  11288775\n",
       "4   2014-01-08  26.37  27.6800  26.35  27.630  15736891\n",
       "..         ...    ...      ...    ...     ...       ...\n",
       "247 2014-12-24  50.66  51.6900  50.35  51.430   5961395\n",
       "248 2014-12-26  51.46  52.2500  51.06  51.955   6841763\n",
       "249 2014-12-29  51.65  53.2400  51.30  52.850   8791483\n",
       "250 2014-12-30  53.00  53.7000  52.83  53.420   8063140\n",
       "251 2014-12-31  53.90  54.6400  53.32  53.630  11063024\n",
       "\n",
       "[252 rows x 6 columns]"
      ]
     },
     "execution_count": 16,
     "metadata": {},
     "output_type": "execute_result"
    }
   ],
   "source": [
    "df"
   ]
  },
  {
   "cell_type": "markdown",
   "id": "a34ea979",
   "metadata": {},
   "source": [
    "### Set the date as the index for further analysis"
   ]
  },
  {
   "cell_type": "code",
   "execution_count": 17,
   "id": "694e0c14",
   "metadata": {},
   "outputs": [],
   "source": [
    "df.set_index('date', inplace=True)"
   ]
  },
  {
   "cell_type": "code",
   "execution_count": 18,
   "id": "6ae69d6d",
   "metadata": {},
   "outputs": [
    {
     "data": {
      "text/html": [
       "<div>\n",
       "<style scoped>\n",
       "    .dataframe tbody tr th:only-of-type {\n",
       "        vertical-align: middle;\n",
       "    }\n",
       "\n",
       "    .dataframe tbody tr th {\n",
       "        vertical-align: top;\n",
       "    }\n",
       "\n",
       "    .dataframe thead th {\n",
       "        text-align: right;\n",
       "    }\n",
       "</style>\n",
       "<table border=\"1\" class=\"dataframe\">\n",
       "  <thead>\n",
       "    <tr style=\"text-align: right;\">\n",
       "      <th></th>\n",
       "      <th>open</th>\n",
       "      <th>high</th>\n",
       "      <th>low</th>\n",
       "      <th>close</th>\n",
       "      <th>volume</th>\n",
       "    </tr>\n",
       "    <tr>\n",
       "      <th>date</th>\n",
       "      <th></th>\n",
       "      <th></th>\n",
       "      <th></th>\n",
       "      <th></th>\n",
       "      <th></th>\n",
       "    </tr>\n",
       "  </thead>\n",
       "  <tbody>\n",
       "    <tr>\n",
       "      <th>2014-01-02</th>\n",
       "      <td>25.07</td>\n",
       "      <td>25.8200</td>\n",
       "      <td>25.06</td>\n",
       "      <td>25.360</td>\n",
       "      <td>8998943</td>\n",
       "    </tr>\n",
       "    <tr>\n",
       "      <th>2014-01-03</th>\n",
       "      <td>25.75</td>\n",
       "      <td>26.7500</td>\n",
       "      <td>25.51</td>\n",
       "      <td>26.540</td>\n",
       "      <td>13836062</td>\n",
       "    </tr>\n",
       "    <tr>\n",
       "      <th>2014-01-06</th>\n",
       "      <td>26.62</td>\n",
       "      <td>27.2000</td>\n",
       "      <td>26.60</td>\n",
       "      <td>27.030</td>\n",
       "      <td>11272273</td>\n",
       "    </tr>\n",
       "    <tr>\n",
       "      <th>2014-01-07</th>\n",
       "      <td>27.20</td>\n",
       "      <td>27.3997</td>\n",
       "      <td>26.67</td>\n",
       "      <td>26.905</td>\n",
       "      <td>11288775</td>\n",
       "    </tr>\n",
       "    <tr>\n",
       "      <th>2014-01-08</th>\n",
       "      <td>26.37</td>\n",
       "      <td>27.6800</td>\n",
       "      <td>26.35</td>\n",
       "      <td>27.630</td>\n",
       "      <td>15736891</td>\n",
       "    </tr>\n",
       "    <tr>\n",
       "      <th>...</th>\n",
       "      <td>...</td>\n",
       "      <td>...</td>\n",
       "      <td>...</td>\n",
       "      <td>...</td>\n",
       "      <td>...</td>\n",
       "    </tr>\n",
       "    <tr>\n",
       "      <th>2014-12-24</th>\n",
       "      <td>50.66</td>\n",
       "      <td>51.6900</td>\n",
       "      <td>50.35</td>\n",
       "      <td>51.430</td>\n",
       "      <td>5961395</td>\n",
       "    </tr>\n",
       "    <tr>\n",
       "      <th>2014-12-26</th>\n",
       "      <td>51.46</td>\n",
       "      <td>52.2500</td>\n",
       "      <td>51.06</td>\n",
       "      <td>51.955</td>\n",
       "      <td>6841763</td>\n",
       "    </tr>\n",
       "    <tr>\n",
       "      <th>2014-12-29</th>\n",
       "      <td>51.65</td>\n",
       "      <td>53.2400</td>\n",
       "      <td>51.30</td>\n",
       "      <td>52.850</td>\n",
       "      <td>8791483</td>\n",
       "    </tr>\n",
       "    <tr>\n",
       "      <th>2014-12-30</th>\n",
       "      <td>53.00</td>\n",
       "      <td>53.7000</td>\n",
       "      <td>52.83</td>\n",
       "      <td>53.420</td>\n",
       "      <td>8063140</td>\n",
       "    </tr>\n",
       "    <tr>\n",
       "      <th>2014-12-31</th>\n",
       "      <td>53.90</td>\n",
       "      <td>54.6400</td>\n",
       "      <td>53.32</td>\n",
       "      <td>53.630</td>\n",
       "      <td>11063024</td>\n",
       "    </tr>\n",
       "  </tbody>\n",
       "</table>\n",
       "<p>252 rows × 5 columns</p>\n",
       "</div>"
      ],
      "text/plain": [
       "             open     high    low   close    volume\n",
       "date                                               \n",
       "2014-01-02  25.07  25.8200  25.06  25.360   8998943\n",
       "2014-01-03  25.75  26.7500  25.51  26.540  13836062\n",
       "2014-01-06  26.62  27.2000  26.60  27.030  11272273\n",
       "2014-01-07  27.20  27.3997  26.67  26.905  11288775\n",
       "2014-01-08  26.37  27.6800  26.35  27.630  15736891\n",
       "...           ...      ...    ...     ...       ...\n",
       "2014-12-24  50.66  51.6900  50.35  51.430   5961395\n",
       "2014-12-26  51.46  52.2500  51.06  51.955   6841763\n",
       "2014-12-29  51.65  53.2400  51.30  52.850   8791483\n",
       "2014-12-30  53.00  53.7000  52.83  53.420   8063140\n",
       "2014-12-31  53.90  54.6400  53.32  53.630  11063024\n",
       "\n",
       "[252 rows x 5 columns]"
      ]
     },
     "execution_count": 18,
     "metadata": {},
     "output_type": "execute_result"
    }
   ],
   "source": [
    "df"
   ]
  },
  {
   "cell_type": "markdown",
   "id": "2e2b6792",
   "metadata": {},
   "source": [
    "## Upload to Github"
   ]
  },
  {
   "cell_type": "markdown",
   "id": "e3049e55",
   "metadata": {},
   "source": [
    "Lets push our changes to GitHub for another member of the team to proceed with the visualisation and analysis"
   ]
  },
  {
   "cell_type": "markdown",
   "id": "619f6c4e",
   "metadata": {},
   "source": [
    "## Visualisation and Analysis"
   ]
  },
  {
   "cell_type": "markdown",
   "id": "e06947ae",
   "metadata": {},
   "source": [
    "### You can start your analysis with visuals of the columns you are interested in"
   ]
  },
  {
   "cell_type": "code",
   "execution_count": 19,
   "id": "d4dc193c",
   "metadata": {},
   "outputs": [
    {
     "data": {
      "image/png": "[encoded data removed]",
      "text/plain": [
       "<Figure size 1000x500 with 1 Axes>"
      ]
     },
     "metadata": {},
     "output_type": "display_data"
    }
   ],
   "source": [
    "plt.figure(figsize=(10, 5))\n",
    "plt.plot(df['close'], label='Close Price')\n",
    "plt.title('Stock Close Price Over Time')\n",
    "plt.xlabel('Date')\n",
    "plt.ylabel('Price')\n",
    "plt.legend()\n",
    "plt.grid(True)\n",
    "plt.tight_layout()\n",
    "plt.show()"
   ]
  },
  {
   "cell_type": "markdown",
   "id": "b62f19fb",
   "metadata": {},
   "source": [
    "Prices significantly changed over the year, it rose to more that double the original close price in 2014."
   ]
  },
  {
   "cell_type": "markdown",
   "id": "6ccf0961",
   "metadata": {},
   "source": [
    "### Create a new column from existing data for analysis\n",
    "\n",
    "Let us calculate the percentage change between each recorded period"
   ]
  },
  {
   "cell_type": "code",
   "execution_count": 20,
   "id": "86337272",
   "metadata": {},
   "outputs": [],
   "source": [
    "df['return'] = df['close'].pct_change()"
   ]
  },
  {
   "cell_type": "code",
   "execution_count": 23,
   "id": "462a48a3",
   "metadata": {},
   "outputs": [
    {
     "data": {
      "text/html": [
       "<div>\n",
       "<style scoped>\n",
       "    .dataframe tbody tr th:only-of-type {\n",
       "        vertical-align: middle;\n",
       "    }\n",
       "\n",
       "    .dataframe tbody tr th {\n",
       "        vertical-align: top;\n",
       "    }\n",
       "\n",
       "    .dataframe thead th {\n",
       "        text-align: right;\n",
       "    }\n",
       "</style>\n",
       "<table border=\"1\" class=\"dataframe\">\n",
       "  <thead>\n",
       "    <tr style=\"text-align: right;\">\n",
       "      <th></th>\n",
       "      <th>open</th>\n",
       "      <th>high</th>\n",
       "      <th>low</th>\n",
       "      <th>close</th>\n",
       "      <th>volume</th>\n",
       "      <th>return</th>\n",
       "    </tr>\n",
       "    <tr>\n",
       "      <th>date</th>\n",
       "      <th></th>\n",
       "      <th></th>\n",
       "      <th></th>\n",
       "      <th></th>\n",
       "      <th></th>\n",
       "      <th></th>\n",
       "    </tr>\n",
       "  </thead>\n",
       "  <tbody>\n",
       "    <tr>\n",
       "      <th>2014-01-03</th>\n",
       "      <td>25.75</td>\n",
       "      <td>26.7500</td>\n",
       "      <td>25.51</td>\n",
       "      <td>26.540</td>\n",
       "      <td>13836062</td>\n",
       "      <td>0.046530</td>\n",
       "    </tr>\n",
       "    <tr>\n",
       "      <th>2014-01-06</th>\n",
       "      <td>26.62</td>\n",
       "      <td>27.2000</td>\n",
       "      <td>26.60</td>\n",
       "      <td>27.030</td>\n",
       "      <td>11272273</td>\n",
       "      <td>0.018463</td>\n",
       "    </tr>\n",
       "    <tr>\n",
       "      <th>2014-01-07</th>\n",
       "      <td>27.20</td>\n",
       "      <td>27.3997</td>\n",
       "      <td>26.67</td>\n",
       "      <td>26.905</td>\n",
       "      <td>11288775</td>\n",
       "      <td>-0.004624</td>\n",
       "    </tr>\n",
       "    <tr>\n",
       "      <th>2014-01-08</th>\n",
       "      <td>26.37</td>\n",
       "      <td>27.6800</td>\n",
       "      <td>26.35</td>\n",
       "      <td>27.630</td>\n",
       "      <td>15736891</td>\n",
       "      <td>0.026947</td>\n",
       "    </tr>\n",
       "    <tr>\n",
       "      <th>2014-01-09</th>\n",
       "      <td>28.24</td>\n",
       "      <td>29.6000</td>\n",
       "      <td>28.20</td>\n",
       "      <td>29.420</td>\n",
       "      <td>26056445</td>\n",
       "      <td>0.064785</td>\n",
       "    </tr>\n",
       "  </tbody>\n",
       "</table>\n",
       "</div>"
      ],
      "text/plain": [
       "             open     high    low   close    volume    return\n",
       "date                                                         \n",
       "2014-01-03  25.75  26.7500  25.51  26.540  13836062  0.046530\n",
       "2014-01-06  26.62  27.2000  26.60  27.030  11272273  0.018463\n",
       "2014-01-07  27.20  27.3997  26.67  26.905  11288775 -0.004624\n",
       "2014-01-08  26.37  27.6800  26.35  27.630  15736891  0.026947\n",
       "2014-01-09  28.24  29.6000  28.20  29.420  26056445  0.064785"
      ]
     },
     "execution_count": 23,
     "metadata": {},
     "output_type": "execute_result"
    }
   ],
   "source": [
    "df.head(5)"
   ]
  },
  {
   "cell_type": "code",
   "execution_count": 22,
   "id": "a6539b62",
   "metadata": {},
   "outputs": [],
   "source": [
    "df = df.dropna()"
   ]
  },
  {
   "cell_type": "code",
   "execution_count": 24,
   "id": "bb81e773",
   "metadata": {},
   "outputs": [
    {
     "data": {
      "image/png": "[encoded data removed]",
      "text/plain": [
       "<Figure size 1000x500 with 1 Axes>"
      ]
     },
     "metadata": {},
     "output_type": "display_data"
    }
   ],
   "source": [
    "plt.figure(figsize=(10, 5))\n",
    "plt.plot(df['return'], label='Return')\n",
    "plt.title('Stock Returns Over Time')\n",
    "plt.xlabel('Date')\n",
    "plt.ylabel('Percentage change')\n",
    "plt.legend()\n",
    "plt.grid(True)\n",
    "plt.tight_layout()\n",
    "plt.show()"
   ]
  },
  {
   "cell_type": "markdown",
   "id": "52e5ae26",
   "metadata": {},
   "source": [
    "Prices changed roughly +/- 1 point through out the year but we see some deviations in   Q3"
   ]
  },
  {
   "cell_type": "code",
   "execution_count": 25,
   "id": "9be36579",
   "metadata": {},
   "outputs": [
    {
     "data": {
      "image/png": "[encoded data removed]",
      "text/plain": [
       "<Figure size 800x400 with 1 Axes>"
      ]
     },
     "metadata": {},
     "output_type": "display_data"
    }
   ],
   "source": [
    "df['return'].plot(kind='hist', bins=100, figsize=(8, 4), title='Returns Distribution')\n",
    "plt.xlabel('Daily Return')\n",
    "plt.tight_layout()\n",
    "plt.show()"
   ]
  },
  {
   "cell_type": "markdown",
   "id": "f5218439",
   "metadata": {},
   "source": []
  },
  {
   "cell_type": "markdown",
   "id": "b80180b5",
   "metadata": {},
   "source": [
    "## Hypothesis Testing [Optional]\n",
    "\n",
    "**Question: *Are the returns symmetrical for first and second halves of the year?***"
   ]
  },
  {
   "cell_type": "markdown",
   "id": "584ff576",
   "metadata": {},
   "source": [
    "*    $H_{0}$ : The returns are symmetrical for both halves of the year(no significant difference in means)\n",
    "*    $H_{1}$ : The returns are not symmetric for the two halves"
   ]
  },
  {
   "cell_type": "markdown",
   "id": "900a75a0",
   "metadata": {},
   "source": [
    "### Split the data"
   ]
  },
  {
   "cell_type": "code",
   "execution_count": 26,
   "id": "b2ab64bd",
   "metadata": {},
   "outputs": [],
   "source": [
    "total_rows = len(df)\n",
    "midpoint = total_rows // 2\n",
    "returns_first_half = df['return'].iloc[:midpoint]\n",
    "returns_second_half = df['return'].iloc[midpoint:]"
   ]
  },
  {
   "cell_type": "code",
   "execution_count": 27,
   "id": "6209f39c",
   "metadata": {},
   "outputs": [
    {
     "data": {
      "text/plain": [
       "date\n",
       "2014-01-03    0.046530\n",
       "2014-01-06    0.018463\n",
       "2014-01-07   -0.004624\n",
       "2014-01-08    0.026947\n",
       "2014-01-09    0.064785\n",
       "                ...   \n",
       "2014-06-26    0.014575\n",
       "2014-06-27   -0.012346\n",
       "2014-06-30   -0.023636\n",
       "2014-07-01    0.020950\n",
       "2014-07-02   -0.043548\n",
       "Name: return, Length: 125, dtype: float64"
      ]
     },
     "execution_count": 27,
     "metadata": {},
     "output_type": "execute_result"
    }
   ],
   "source": [
    "returns_first_half"
   ]
  },
  {
   "cell_type": "markdown",
   "id": "7511ded8",
   "metadata": {},
   "source": [
    "### Perform the T-test"
   ]
  },
  {
   "cell_type": "code",
   "execution_count": 28,
   "id": "4208615b",
   "metadata": {},
   "outputs": [],
   "source": [
    "stat, p = stats.ttest_ind(returns_first_half, returns_second_half, equal_var=False)"
   ]
  },
  {
   "cell_type": "code",
   "execution_count": 29,
   "id": "2592ec71",
   "metadata": {},
   "outputs": [
    {
     "data": {
      "text/plain": [
       "0.6389707791551223"
      ]
     },
     "execution_count": 29,
     "metadata": {},
     "output_type": "execute_result"
    }
   ],
   "source": [
    "stat"
   ]
  },
  {
   "cell_type": "markdown",
   "id": "a8f66e57",
   "metadata": {},
   "source": [
    "### Results"
   ]
  },
  {
   "cell_type": "code",
   "execution_count": 30,
   "id": "5c040c36",
   "metadata": {},
   "outputs": [
    {
     "name": "stdout",
     "output_type": "stream",
     "text": [
      "T-test statistic: 0.6390, p-value: 0.5235\n",
      "No statistically significant difference in returns between halves.\n"
     ]
    }
   ],
   "source": [
    "print(f\"T-test statistic: {stat:.4f}, p-value: {p:.4f}\")\n",
    "if p < 0.05:\n",
    "    print(\"Statistically significant difference in returns between halves.\")\n",
    "else:\n",
    "    print(\"No statistically significant difference in returns between halves.\")\n"
   ]
  },
  {
   "cell_type": "markdown",
   "id": "3bf62a59",
   "metadata": {},
   "source": [
    "## Conclusion and recommendation"
   ]
  },
  {
   "cell_type": "markdown",
   "id": "e1d115e2",
   "metadata": {},
   "source": [
    "### Conclusion\n",
    "*    We found that the returns are symetrical for both halves of the year\n",
    "*    We found that the price almost doubled from January to December\n",
    "*    \n",
    "### Recommendations[Optional]\n",
    "*    "
   ]
  }
 ],
 "metadata": {
  "kernelspec": {
   "display_name": "base",
   "language": "python",
   "name": "python3"
  },
  "language_info": {
   "codemirror_mode": {
    "name": "ipython",
    "version": 3
   },
   "file_extension": ".py",
   "mimetype": "text/x-python",
   "name": "python",
   "nbconvert_exporter": "python",
   "pygments_lexer": "ipython3",
   "version": "3.12.7"
  }
 },
 "nbformat": 4,
 "nbformat_minor": 5
}
